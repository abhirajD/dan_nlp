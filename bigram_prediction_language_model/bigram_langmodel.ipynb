{
 "cells": [
  {
   "cell_type": "code",
   "execution_count": 1,
   "metadata": {
    "collapsed": true
   },
   "outputs": [],
   "source": [
    "import re\n",
    "import math\n",
    "import itertools"
   ]
  },
  {
   "cell_type": "code",
   "execution_count": 2,
   "metadata": {
    "collapsed": true
   },
   "outputs": [],
   "source": [
    "#Open and preporcess corpus\n",
    "with open('Corpus.txt','r' ,encoding='utf-8') as f:\n",
    "  raw_corpa = f.read()"
   ]
  },
  {
   "cell_type": "code",
   "execution_count": 3,
   "metadata": {
    "collapsed": true
   },
   "outputs": [],
   "source": [
    "def preprocess_text(raw_string):\n",
    "  #Eliminate conflicting alphanum words\n",
    "  raw_string = re.sub(r'\\.( [a-z])', '\\g<1>', raw_string) #A period followed by a lowercase isnt a new sentence\n",
    "  raw_string = re.sub(r'\\'s','', raw_string) #Remove \"'s\" from for eg Apple's\n",
    "\n",
    "  #Keep only Alpha\n",
    "  raw_string = re.sub(r'[,\\(\\)\\[\\]\"\\'—]','', raw_string)\n",
    "  raw_string = re.sub(r'-', ' ', raw_string)\n",
    "\n",
    "  #Handle Start and end of sentence\n",
    "  raw_string = re.sub(r'\\. ([A-Z])',' <\\s> <s> \\g<1>', raw_string)\n",
    "  raw_string = '<s> ' + raw_string[:-1] + ' <\\s>' if raw_string.endswith('.') else '<s> ' + raw_string + ' <\\s>'\n",
    "\n",
    "  raw_string = raw_string.lower()\n",
    "  raw_string = re.sub(r' {2,}', ' ', raw_string)\n",
    "  \n",
    "  return raw_string"
   ]
  },
  {
   "cell_type": "code",
   "execution_count": 4,
   "metadata": {},
   "outputs": [],
   "source": [
    "raw_corpa = preprocess_text(raw_corpa)"
   ]
  },
  {
   "cell_type": "code",
   "execution_count": 5,
   "metadata": {},
   "outputs": [],
   "source": [
    "class bigram_model():\n",
    "  def __init__(self, corpus, smoothing=False):\n",
    "    self.smoothing = smoothing\n",
    "    #Getting UNIGRAM frequencies\n",
    "    #We'll need them when calculating probabilities\n",
    "    self.unigrams = raw_corpa.split(' ')\n",
    "    self.unigram_set = set(self.unigrams)\n",
    "    self.unigram_freq = dict()\n",
    "    \n",
    "    #We will have an entry for (End of sentence, Start of sentence)\n",
    "    #It is noise and needs to be removed\n",
    "    self.unigram_set.remove('<s>')\n",
    "    self.unigram_set.remove('<\\s>')\n",
    "    \n",
    "    #Count unigrams\n",
    "    for unigram in self.unigram_set:\n",
    "      self.unigram_freq[unigram] = self.unigrams.count(unigram)\n",
    "    \n",
    "    #Calc Vocabulary size\n",
    "    self.vocab_size = len(self.unigram_freq)\n",
    "    \n",
    "    #MAKE BIGRAMS\n",
    "    self.bigrams = list(zip(raw_corpa.split(' ')[:-1], raw_corpa.split(\" \")[1:]))\n",
    "    self.bigram_set = set(self.bigrams)\n",
    "    self.bigram_freq = dict()\n",
    "    \n",
    "    #Remove(End of sentence, Start of sentence) \n",
    "    self.bigram_set.remove(('<\\s>', '<s>'))\n",
    "    \n",
    "    #Count bigrams\n",
    "    for bigram in self.bigram_set:\n",
    "      self.bigram_freq[bigram] = self.bigrams.count(bigram)\n",
    "  \n",
    "  #Calculate Bigram Probability\n",
    "  #Pass Wn-1 and Wn; (Previous word and word)\n",
    "  def calculate_bigram_prob(self, prev_word, word):\n",
    "    bigram_prob_numtr = self.bigram_freq.get((prev_word, word), 0)\n",
    "    bigram_prob_dentr = self.unigram_freq.get(prev_word, 0)\n",
    "\n",
    "    #Add one smoothing:\n",
    "    if self.smoothing:\n",
    "      bigram_prob_numtr += 1\n",
    "      bigram_prob_dentr += self.vocab_size\n",
    "    #Return prob\n",
    "    if bigram_prob_numtr == 0 or bigram_prob_dentr == 0:\n",
    "      return 0.0\n",
    "    else:\n",
    "      return float(bigram_prob_numtr) / float(bigram_prob_dentr)\n",
    "  \n",
    "  #Calculate count\n",
    "  #Pass Wn-1 and Wn\n",
    "  def calculate_bigram_count(self, prev_word, word):\n",
    "    if self.smoothing:\n",
    "      return self.bigram_freq.get((prev_word, word), 0) + 1\n",
    "    else:\n",
    "      return self.bigram_freq.get((prev_word, word), 0)\n",
    "  \n",
    "  #Calculate Complete Sentence Probability\n",
    "  #Pass preprocessed sentence\n",
    "  def calculate_bigram_sentence_prob(self, sentence, normalize_prob=True):\n",
    "    bigram_sentence_prob_sum = 0\n",
    "    bigram_pairs = list(zip(sentence.split(' ')[:-1], sentence.split(' ')[1:]))\n",
    "    \n",
    "    for bigram_pair in bigram_pairs:\n",
    "      bigram_prob = self.calculate_bigram_prob(bigram_pair[0], bigram_pair[1])\n",
    "      bigram_sentence_prob_sum += bigram_prob\n",
    "    return bigram_sentence_prob_sum"
   ]
  },
  {
   "cell_type": "code",
   "execution_count": 6,
   "metadata": {},
   "outputs": [],
   "source": [
    "a = bigram_model(raw_corpa)\n",
    "b = bigram_model(raw_corpa, smoothing = True)"
   ]
  },
  {
   "cell_type": "code",
   "execution_count": 9,
   "metadata": {},
   "outputs": [],
   "source": [
    "s1 = 'Apple computer is the first product of the company'\n",
    "list_s1 = preprocess_text(s1).split(' ')\n",
    "count_list = []\n",
    "prob_list = []\n",
    " \n",
    "for prev_word in list_s1:\n",
    "  prev_word_count_list = [prev_word]\n",
    "  prev_word_prob_list = [prev_word]\n",
    "  \n",
    "  for word in list_s1:\n",
    "    prev_word_count_list.append(a.calculate_bigram_count(prev_word,word))\n",
    "    prev_word_prob_list.append(a.calculate_bigram_prob(prev_word,word))\n",
    "    \n",
    "  count_list.append(prev_word_count_list)\n",
    "  prob_list.append(prev_word_prob_list)"
   ]
  },
  {
   "cell_type": "code",
   "execution_count": 12,
   "metadata": {},
   "outputs": [
    {
     "name": "stdout",
     "output_type": "stream",
     "text": [
      "*           <s>      apple    computer         is        the       first     product         of        the     company       <\\s>\n",
      "--------  -----  ---------  ----------  ---------  ---------  ----------  ----------  ---------  ---------  ----------  ---------\n",
      "<s>           0  0          0           0          0          0           0           0          0          0           0\n",
      "apple         0  0          0.0131868   0.0153846  0.0043956  0.00659341  0.0021978   0          0.0043956  0           0.0175824\n",
      "computer      0  0          0           0          0.0740741  0           0           0          0.0740741  0.037037    0.111111\n",
      "is            0  0          0           0          0.0943396  0           0           0          0.0943396  0           0\n",
      "the           0  0.0352273  0           0          0          0.0375      0.00340909  0          0          0.0670455   0\n",
      "first         0  0.0392157  0.0196078   0          0          0           0.0196078   0.0196078  0          0           0.0196078\n",
      "product       0  0          0           0          0          0           0           0          0          0           0.030303\n",
      "of            0  0.0454545  0.00534759  0          0.229947   0           0           0          0.229947   0.00534759  0\n",
      "the           0  0.0352273  0           0          0          0.0375      0.00340909  0          0          0.0670455   0\n",
      "company       0  0          0           0          0          0.0123457   0.0123457   0          0          0           0.135802\n",
      "<\\s>          0  0          0           0          0          0           0           0          0          0           0\n"
     ]
    }
   ],
   "source": [
    "from tabulate import tabulate\n",
    "print(tabulate(prob_list,headers=['*']+list_s1))"
   ]
  },
  {
   "cell_type": "code",
   "execution_count": 14,
   "metadata": {},
   "outputs": [
    {
     "data": {
      "text/plain": [
       "'<s> apple will launch iphone <\\\\s>'"
      ]
     },
     "execution_count": 14,
     "metadata": {},
     "output_type": "execute_result"
    }
   ],
   "source": [
    "def preprocess_text(raw_string):\n",
    "  #Eliminate conflicting alphanum words\n",
    "  raw_string = re.sub(r'\\.( [a-z])', '\\g<1>', raw_string) #A period followed by a lowercase isnt a new sentence\n",
    "  raw_string = re.sub(r'\\'s','', raw_string) #Remove \"'s\" from for eg Apple's\n",
    "\n",
    "  #Keep only Alpha\n",
    "  raw_string = re.sub(r'[,\\(\\)\\[\\]\"\\'—]','', raw_string)\n",
    "  raw_string = re.sub(r'-', ' ', raw_string)\n",
    "\n",
    "  #Handle Start and end of sentence\n",
    "  raw_string = '<s> ' + raw_string[:-1] + ' <\\s>' if raw_string.endswith('.') else '<s> ' + raw_string + ' <\\s>'\n",
    "  raw_string = re.sub(r'\\. ([A-Z])',' <\\s> <s> \\g<1>', raw_string)\n",
    "\n",
    "  raw_string = raw_string.lower()\n",
    "  raw_string = re.sub(r' {2,}', ' ', raw_string)\n",
    "  \n",
    "  return raw_string\n",
    "\n",
    "preprocess_text(\"Apple will launch iphone.\")"
   ]
  },
  {
   "cell_type": "code",
   "execution_count": null,
   "metadata": {
    "collapsed": true
   },
   "outputs": [],
   "source": []
  }
 ],
 "metadata": {
  "kernelspec": {
   "display_name": "Python 3",
   "language": "python",
   "name": "python3"
  },
  "language_info": {
   "codemirror_mode": {
    "name": "ipython",
    "version": 3
   },
   "file_extension": ".py",
   "mimetype": "text/x-python",
   "name": "python",
   "nbconvert_exporter": "python",
   "pygments_lexer": "ipython3",
   "version": "3.6.3"
  }
 },
 "nbformat": 4,
 "nbformat_minor": 2
}
